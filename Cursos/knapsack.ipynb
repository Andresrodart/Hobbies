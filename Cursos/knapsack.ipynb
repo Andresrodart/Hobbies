{
 "metadata": {
  "language_info": {
   "codemirror_mode": {
    "name": "ipython",
    "version": 3
   },
   "file_extension": ".py",
   "mimetype": "text/x-python",
   "name": "python",
   "nbconvert_exporter": "python",
   "pygments_lexer": "ipython3",
   "version": "3.9.1"
  },
  "orig_nbformat": 2,
  "kernelspec": {
   "name": "python3",
   "display_name": "Python 3.9.1 64-bit",
   "metadata": {
    "interpreter": {
     "hash": "63fd5069d213b44bf678585dea6b12cceca9941eaf7f819626cde1f2670de90d"
    }
   }
  }
 },
 "nbformat": 4,
 "nbformat_minor": 2,
 "cells": [
  {
   "source": [
    "# 0-1 Knapsack Problem\n",
    "Given weights and values of n items, put these items in a knapsack of capacity W to get the maximum total value in the knapsack. In other words, given two integer arrays val\\[0..n-1\\] and wt\\[0..n-1\\] which represent values and weights associated with n items respectively. Primero definamos una estructua, que representará el grupo de objetos que queremos guardar."
   ],
   "cell_type": "markdown",
   "metadata": {}
  },
  {
   "cell_type": "code",
   "execution_count": 9,
   "metadata": {},
   "outputs": [],
   "source": [
    "class Comida:\n",
    "    def __init__(self, nombre, valor, peso):\n",
    "        self.nombre = nombre\n",
    "        self.valor = valor\n",
    "        self.calorias = peso\n",
    "    def por_valor(self):\n",
    "        return self.valor\n",
    "    def por_costo(self):\n",
    "        return self.calorias\n",
    "    def por_densidad(self):\n",
    "        return self.valor / self.calorias\n",
    "    def __str__(self):\n",
    "        return '{} : < {}, {} >'.format(self.nombre, self.valor, self.calorias)"
   ]
  },
  {
   "source": [
    "Código para construir el menú."
   ],
   "cell_type": "markdown",
   "metadata": {}
  },
  {
   "cell_type": "code",
   "execution_count": 25,
   "metadata": {},
   "outputs": [],
   "source": [
    "def construir_menu(nombres: list[str], valores: list[int], calorias: list[int]) -> list:\n",
    "    \"\"\"\n",
    "        Las listas en los parametros deben de ser del mismo tamaño\n",
    "    \"\"\"\n",
    "    menu = []\n",
    "    for i in range(len(valores)):\n",
    "        menu.append(Comida(nombres[i], valores[i], calorias[i]))\n",
    "    return menu"
   ]
  },
  {
   "source": [
    "If we make an general idea of the greedy aproch of taking the most valuable items first, by an arbitrary function **KEY_FUNCTION** we can descirbe the algorithm as:"
   ],
   "cell_type": "markdown",
   "metadata": {}
  },
  {
   "cell_type": "code",
   "execution_count": 34,
   "metadata": {},
   "outputs": [],
   "source": [
    "def codiciosa(items:list, max_cost:'Numeric', KEY_FUNCTION:'Function') -> tuple:\n",
    "    \"\"\"\n",
    "    Assumes max_cost >= 0\n",
    "    KEY_FUNCTION maps elements of items to numbers\n",
    "    \"\"\"\n",
    "    items_copy = sorted(items, key =  KEY_FUNCTION, reverse=True)\n",
    "    result = []\n",
    "    total_value, total_cost = 0.0, 0.0\n",
    "\n",
    "    for i in range(len(items_copy)):\n",
    "        if(total_cost + items_copy[i].por_costo()) <= max_cost:\n",
    "            result.append(items_copy[i])\n",
    "            total_cost += items_copy[i].por_costo()\n",
    "            total_value += items_copy[i].por_valor()\n",
    "\n",
    "    return (result, total_value) \n",
    "def prueba_codiciosa(items:list, humbral:int, KEY_FUNCTION:'Function'):\n",
    "    tomados, valor = codiciosa(items, humbral, KEY_FUNCTION)\n",
    "    print('Valor total de elementos tomados: ', valor)\n",
    "    for item in tomados: print('\\t', item)"
   ]
  },
  {
   "source": [
    "Note that that time complexity will be an least O(nlg n), asumiendo que la función clave es despesiable.\n",
    "\n",
    "Here is some code to test it"
   ],
   "cell_type": "markdown",
   "metadata": {}
  },
  {
   "cell_type": "code",
   "execution_count": 36,
   "metadata": {},
   "outputs": [],
   "source": [
    "def prueba_greedys(comidas:list, unidades_max:int):\n",
    "    print('Usamos la función codiciosa para seleccionar por valor: ', unidades_max, ' calorias')\n",
    "    prueba_codiciosa(comidas, unidades_max, Comida.por_valor)\n",
    "    print('Usamos la función codiciosa para seleccionar por costo: ', unidades_max, ' calorias')\n",
    "    prueba_codiciosa(comidas, unidades_max, lambda x: 1 / Comida.por_costo(x))\n",
    "    print('Usamos la función codiciosa para seleccionar por densidad: ', unidades_max, ' calorias')\n",
    "    prueba_codiciosa(comidas, unidades_max, Comida.por_densidad)"
   ]
  },
  {
   "source": [
    "Date cuenta que lamda crea una fucnión anonima, con un parametro y por default regresa el valor de una operación, esto sería igual a definir la función:\n",
    "```python\n",
    "def inverso(num: float) -> float:\n",
    "    return 1 / float\n",
    "``` \n",
    "El siguiente es código para probar."
   ],
   "cell_type": "markdown",
   "metadata": {}
  },
  {
   "cell_type": "code",
   "execution_count": 37,
   "metadata": {},
   "outputs": [
    {
     "output_type": "stream",
     "name": "stdout",
     "text": [
      "Usamos la función codiciosa para seleccionar por valor:  750  calorias\nValor total de elementos tomados:  284.0\n\t hamburguesa : < 100, 354 >\n\t pizza : < 95, 258 >\n\t vino : < 89, 123 >\nUsamos la función codiciosa para seleccionar por costo:  750  calorias\nValor total de elementos tomados:  318.0\n\t manzana : < 50, 95 >\n\t vino : < 89, 123 >\n\t coca : < 79, 150 >\n\t cerveza : < 90, 154 >\n\t dona : < 10, 195 >\nUsamos la función codiciosa para seleccionar por densidad:  750  calorias\nValor total de elementos tomados:  318.0\n\t vino : < 89, 123 >\n\t cerveza : < 90, 154 >\n\t coca : < 79, 150 >\n\t manzana : < 50, 95 >\n\t dona : < 10, 195 >\n"
     ]
    }
   ],
   "source": [
    "nombres = ['vino', 'cerveza', 'pizza', 'hamburguesa', 'papitas', 'coca', 'manzana', 'dona', 'pastel']\n",
    "valores = [89, 90, 95, 100, 90, 79, 50, 10]\n",
    "calorias = [123, 154, 258, 354, 365, 150, 95, 195]\n",
    "comidas = construir_menu(nombres, valores, calorias)\n",
    "prueba_greedys(comidas, 750)"
   ]
  },
  {
   "source": [
    "Observemos que los resultados son diferentes en orden, auqnue sean el mismo valor. Esto no queire decir que una de estas sea el criterio correcto, ya que solo pueden encontrar la primera respeusta global, un ejemplo eb el que no funcionaria sería:  "
   ],
   "cell_type": "markdown",
   "metadata": {}
  },
  {
   "cell_type": "code",
   "execution_count": 39,
   "metadata": {},
   "outputs": [
    {
     "output_type": "stream",
     "name": "stdout",
     "text": [
      "Usamos la función codiciosa para seleccionar por valor:  1000  calorias\nValor total de elementos tomados:  424.0\n\t hamburguesa : < 100, 354 >\n\t pizza : < 95, 258 >\n\t cerveza : < 90, 154 >\n\t vino : < 89, 123 >\n\t manzana : < 50, 95 >\nUsamos la función codiciosa para seleccionar por costo:  1000  calorias\nValor total de elementos tomados:  413.0\n\t manzana : < 50, 95 >\n\t vino : < 89, 123 >\n\t coca : < 79, 150 >\n\t cerveza : < 90, 154 >\n\t dona : < 10, 195 >\n\t pizza : < 95, 258 >\nUsamos la función codiciosa para seleccionar por densidad:  1000  calorias\nValor total de elementos tomados:  413.0\n\t vino : < 89, 123 >\n\t cerveza : < 90, 154 >\n\t coca : < 79, 150 >\n\t manzana : < 50, 95 >\n\t pizza : < 95, 258 >\n\t dona : < 10, 195 >\n"
     ]
    }
   ],
   "source": [
    "prueba_greedys(comidas, 1000)"
   ]
  },
  {
   "source": [
    "### Pros Greedy:\n",
    "- Fácil de implementar\n",
    "- Computacionalmente eficiente\n",
    "### Contras Greedy.\n",
    "- No siempre toma la mejor solución (Ni sabemos que tan cerca estuvimos de la mejo solución posiblosible)\n"
   ],
   "cell_type": "markdown",
   "metadata": {}
  },
  {
   "source": [
    "## Arból de elecciones \n",
    "Una mejor forma, de realizar el la busqueda, sería creando un arból de eleccines, que equivale a preguntar lo que pasaría si tomo un elemento vs lo que pasaría si no tomo ese elemento.\n",
    "\n"
   ],
   "cell_type": "markdown",
   "metadata": {}
  }
 ]
}